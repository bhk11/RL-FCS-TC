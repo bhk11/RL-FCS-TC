{
 "cells": [
  {
   "cell_type": "code",
   "execution_count": null,
   "id": "e81883ed",
   "metadata": {},
   "outputs": [],
   "source": [
    "import numpy as np\n",
    "from src.agent.training import training"
   ]
  },
  {
   "cell_type": "code",
   "execution_count": null,
   "id": "83a11ec6",
   "metadata": {},
   "outputs": [],
   "source": [
    "# configuration of the agent\n",
    "param_dict = {\"subfolder_name\": \"FCS_RL_agent\",\n",
    "    \n",
    "              \"gamma\": 0.868,\n",
    "\n",
    "              \"alpha0\": 2.887e-5,\n",
    "              \"alpha1\": 1.736e-5,\n",
    "              \"lr_reduction_start\":     460000,\n",
    "              \"lr_reduction_interval\": 2710000,\n",
    "\n",
    "              \"layers\": 10,\n",
    "              \"neurons\": 90,\n",
    "\n",
    "              \"epsilon0\": 2.119e-1,\n",
    "              \"epsilon1\": 1.774e-1,\n",
    "              \"nb_policy_annealing_steps\": 2210000,\n",
    "\n",
    "              \"memory_size\": 365000,\n",
    "              \"batch_size\": 32,\n",
    "              \"target_update_parameter\": 2.096e-1,\n",
    "\n",
    "              \"nb_training_steps\": 3000000,\n",
    "              \"nb_episode_steps\": 3000000,\n",
    "              \n",
    "              \"activation_fcn\": \"leaky_relu\", # one of the following:\n",
    "                                              # 'softplus', 'leaky_relu', 'elu',\n",
    "                                              # 'selu', 'sigmoid', 'tanh'\n",
    "              \n",
    "              \"activation_fcn_parameter\": 0.3425,\n",
    "\n",
    "              \"verbose\": 1,\n",
    "              }\n",
    "\n"
   ]
  },
  {
   "cell_type": "code",
   "execution_count": null,
   "id": "e9292150",
   "metadata": {},
   "outputs": [],
   "source": [
    "training(param_dict)"
   ]
  },
  {
   "cell_type": "code",
   "execution_count": null,
   "id": "ff68a47d",
   "metadata": {},
   "outputs": [],
   "source": []
  }
 ],
 "metadata": {
  "kernelspec": {
   "display_name": "Osnabrueck",
   "language": "python",
   "name": "python3"
  },
  "language_info": {
   "codemirror_mode": {
    "name": "ipython",
    "version": 3
   },
   "file_extension": ".py",
   "mimetype": "text/x-python",
   "name": "python",
   "nbconvert_exporter": "python",
   "pygments_lexer": "ipython3",
   "version": "3.12.9"
  }
 },
 "nbformat": 4,
 "nbformat_minor": 5
}
